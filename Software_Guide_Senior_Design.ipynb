{
  "nbformat": 4,
  "nbformat_minor": 0,
  "metadata": {
    "colab": {
      "name": "senior_design.ipynb",
      "version": "0.3.2",
      "provenance": [],
      "collapsed_sections": [],
      "toc_visible": true,
      "include_colab_link": true
    },
    "kernelspec": {
      "name": "python3",
      "display_name": "Python 3"
    }
  },
  "cells": [
    {
      "cell_type": "markdown",
      "metadata": {
        "id": "view-in-github",
        "colab_type": "text"
      },
      "source": [
        "<a href=\"https://colab.research.google.com/github/dlackner/CCBT/blob/master/Software_Guide_Senior_Design.ipynb\" target=\"_parent\"><img src=\"https://colab.research.google.com/assets/colab-badge.svg\" alt=\"Open In Colab\"/></a>"
      ]
    },
    {
      "metadata": {
        "id": "HHTVNZPLgI1V",
        "colab_type": "text"
      },
      "cell_type": "markdown",
      "source": [
        "# Notes for Senior Design"
      ]
    },
    {
      "metadata": {
        "id": "C6AZsgjHd6xG",
        "colab_type": "text"
      },
      "cell_type": "markdown",
      "source": [
        "## Installing MAVROS on Jetson TX1\n",
        "\n",
        "> The mavros ROS package enables MAVLink extendable communication between computers running ROS, MAVLink enabled autopilots, and MAVLink enabled GCS.\n",
        "*   Developers working with ROS are advised to use the source installation rather than binary installation, so we installed from source. [Installation Instructions](https://dev.px4.io/en/ros/mavros_installation.html)\n",
        "*   `catkin build` failed on our Jetson TX1 (most likely a result of running out of memory), but worked when we tried building with two cores instead.\n",
        "```\n",
        "catkin build -j2\n",
        "```\n",
        "* Don't use both `catkin_make` and `catkin build` in the same workspace. Their build artifacts are incompatible. [Source](https://answers.ros.org/question/277109/catkin_make-works-but-catkin-build-fails/)\n",
        "* `catkin config` will tell you which toolset is currently in use. If you wish to switch to `catkin build`, run \n",
        "```\n",
        "catkin clean -bdy\n",
        "```"
      ]
    },
    {
      "metadata": {
        "id": "AhtMaENecvVy",
        "colab_type": "text"
      },
      "cell_type": "markdown",
      "source": [
        "## Connecting Jetson TX1 to Pixhawk\n",
        "\n",
        "> A simple way to connect Jetson TX1 and Pixhawk is using the **UART (J17) connector** which provides serial interface. This interface is accessed via the **/dev/ttyTHS2** device in Linux. The UART connector and Pixhawk were connected in the following way:\n",
        "> * Pin 1 J17 (GND) to pin 6 (GND) on Pixhawk TELEM2 port.\n",
        "* Pin 4 J17 (RX) to pin 2 (TX) on Pixhawk TELEM2 port.\n",
        "* Pin 5 J17 (TX) to pin 3 (RX) on Pixhawk TELEM2 port.\n",
        "\n",
        "> [Source](https://github.com/NVIDIA-AI-IOT/redtail/wiki/Dev-board-UART-and-Pixhawk-connection)\n",
        "<br>\n",
        "> [Pixhawk Pinout](#scrollTo=7W5RGjEyi659)\n"
      ]
    },
    {
      "metadata": {
        "id": "FkfhtkTxCyu6",
        "colab_type": "text"
      },
      "cell_type": "markdown",
      "source": [
        "## Launching the MAVROS Node\n",
        "\n",
        "> With the UART connection, the FCU source device is **/dev/ttyTHS2**, not **/dev/ttyACM0** in the default `apm.launch`. In addition, the baud rate should be set to 921600. Therefore, the custom launch file was made. Launch MAVROS node with the following customized launch file with\n",
        "```\n",
        "roslaunch mavros jetson_apm.launch\n",
        "```"
      ]
    },
    {
      "metadata": {
        "id": "gbJuZEBnE1tA",
        "colab_type": "code",
        "colab": {}
      },
      "cell_type": "code",
      "source": [
        "%%xml\n",
        "<launch>\n",
        "\t<!-- vim: set ft=xml noet : -->\n",
        "\t<!-- example launch script for ArduPilotMega based FCU's -->\n",
        "\n",
        "\t<arg name=\"fcu_url\" default=\"/dev/ttyTHS2:921600\" />\n",
        "\t<arg name=\"gcs_url\" default=\"\" />\n",
        "\t<arg name=\"tgt_system\" default=\"1\" />\n",
        "\t<arg name=\"tgt_component\" default=\"1\" />\n",
        "\t<arg name=\"log_output\" default=\"screen\" />\n",
        "\t<arg name=\"fcu_protocol\" default=\"v2.0\" />\n",
        "\t<arg name=\"respawn_mavros\" default=\"false\" />\n",
        "\n",
        "\t<include file=\"$(find mavros)/launch/node.launch\">\n",
        "\t\t<arg name=\"pluginlists_yaml\" value=\"$(find mavros)/launch/apm_pluginlists.yaml\" />\n",
        "\t\t<arg name=\"config_yaml\" value=\"$(find mavros)/launch/apm_config.yaml\" />\n",
        "\n",
        "\t\t<arg name=\"fcu_url\" value=\"$(arg fcu_url)\" />\n",
        "\t\t<arg name=\"gcs_url\" value=\"$(arg gcs_url)\" />\n",
        "\t\t<arg name=\"tgt_system\" value=\"$(arg tgt_system)\" />\n",
        "\t\t<arg name=\"tgt_component\" value=\"$(arg tgt_component)\" />\n",
        "\t\t<arg name=\"log_output\" value=\"$(arg log_output)\" />\n",
        "\t\t<arg name=\"fcu_protocol\" value=\"$(arg fcu_protocol)\" />\n",
        "\t\t<arg name=\"respawn_mavros\" default=\"$(arg respawn_mavros)\" />\n",
        "\t</include>\n",
        "</launch>"
      ],
      "execution_count": 0,
      "outputs": []
    },
    {
      "metadata": {
        "id": "5GcVMGYsh9yM",
        "colab_type": "text"
      },
      "cell_type": "markdown",
      "source": [
        "## Launching the RealSense Node\n",
        "\n",
        "> We were unable to install the ROS Wrapper for Intel RealSense Devices using instructions from their [Github](https://github.com/intel-ros/realsense), so we downloaded the realsense2_camera folder into `~/catkin_ws/src/` and ran \n",
        "```\n",
        "catkin build -j2\n",
        "```\n",
        "This allowed us to add the package to the workspace. To start the camera node in ROS, install rgbd_launch:\n",
        "```\n",
        "sudo apt-get install ros-kinetic-rgbd-launch\n",
        "```\n",
        "To launch the node:\n",
        "```\n",
        "roslaunch realsense2_camera rs_aligned_depth.launch\n",
        "```\n",
        "To view image topics, run the following command and select the topic you want to view\n",
        "```\n",
        "rqt_image_view\n",
        "```"
      ]
    },
    {
      "metadata": {
        "id": "YIDncOjux61v",
        "colab_type": "text"
      },
      "cell_type": "markdown",
      "source": [
        "## Startup Guide\n",
        "\n",
        "> In a terminal window, launch roscore\n",
        "```\n",
        "roscore\n",
        "```\n",
        "In another terminal window, launch the RealSense camera node (for camera topics):\n",
        "```\n",
        "roslaunch realsense2_camera rs_aligned_depth.launch\n",
        "```\n",
        "In a third terminal window, launch the MAVROS node (for mavros topics, not necessary for testing camera)\n",
        "```\n",
        "roslaunch mavros jetson_apm.launch\n",
        "```\n",
        "Then, in a fourth terminal window, run your script. "
      ]
    },
    {
      "metadata": {
        "id": "r9sYKFER_WJH",
        "colab_type": "text"
      },
      "cell_type": "markdown",
      "source": [
        "### Notes\n",
        "\n",
        "* **Launching nodes with ROS**<br>\n",
        "```\n",
        "roslaunch [package_name] [launch_file]\n",
        "```\n",
        "[Source](https://github.com/intel-aero/meta-intel-aero/wiki/05-Autonomous-drone-programming-with-ROS)\n",
        "* To view available topics\n",
        "```\n",
        "rostopic list\n",
        "```\n",
        "* Use Guided mode for autonomous. Switch to Hold mode for arming and disarming.\n",
        "* TM: Wrong FCU time` because no GPS\n",
        "* [Correct Velocity Commands](http://forum.erlerobotics.com/t/help-with-rover-guided-mode-not-working-with-mavros/1453/2)\n",
        "* [Tuning Speed/Throttle](http://ardupilot.org/rover/docs/rover-tuning-throttle-and-speed.html)\n",
        "* [Switch to Guided Mode](https://discuss.ardupilot.org/t/rover-in-guide-mode/26919/8)\n",
        "* [Start in Guided](https://discuss.ardupilot.org/t/driving-rover-with-waypoints-without-gps/29285)<br>\n",
        "In QGroundControl, set INITIAL_MODE to 15, and also set flight mode 4 to be GUIDED so you can simply flip on switch on your RC transmitter.\n",
        "* **Might need to customize firmware?**\n",
        "* https://github.com/ArduPilot/ardupilot/blob/master/APMrover2/GCS_Mavlink.cpp\n",
        "* https://github.com/ArduPilot/ardupilot/blob/master/APMrover2/RC_Channel.cpp\n",
        "* https://github.com/ArduPilot/ardupilot/blob/master/APMrover2/Rover.h\n",
        "* https://github.com/ArduPilot/ardupilot/blob/master/APMrover2/mode.h\n",
        "* https://github.com/ArduPilot/ardupilot/blob/master/APMrover2/mode_guided.cpp\n"
      ]
    },
    {
      "metadata": {
        "id": "4Mmz0yMdi331",
        "colab_type": "text"
      },
      "cell_type": "markdown",
      "source": [
        "# Appendix"
      ]
    },
    {
      "metadata": {
        "id": "7W5RGjEyi659",
        "colab_type": "text"
      },
      "cell_type": "markdown",
      "source": [
        "## Pixhawk Pinout\n",
        "<img src=\"https://drive.google.com/uc?export=download&id=16HfNRwXV7mjNjBLkNoK16FaVc7CTtgPm\"/>\n"
      ]
    },
    {
      "metadata": {
        "id": "1QeBJ92jtXnL",
        "colab_type": "text"
      },
      "cell_type": "markdown",
      "source": [
        "# Software Notes"
      ]
    },
    {
      "metadata": {
        "id": "WZTm9HQwtel2",
        "colab_type": "text"
      },
      "cell_type": "markdown",
      "source": [
        "**Software Architecture Plan**\n",
        "\n",
        "*   Visual Input Stream\n",
        "*   Publish stream to ROS package\n",
        "*   Convert stream to OpenCV image Mat (cv_bridge)\n",
        "*   Detect goal point\n",
        "*   Detect obstacles in line of view\n",
        "*   Convert obstacles and goal point into top down view\n",
        "*   Create a path to goal point (A* Algorithm)\n",
        "*   Create velocity and direction mavlink messages to send to rover\n",
        "\n",
        "\n",
        "\n",
        "\n",
        "\n",
        "\n",
        "\n",
        "\n"
      ]
    },
    {
      "metadata": {
        "id": "xWJLC00iuzjX",
        "colab_type": "text"
      },
      "cell_type": "markdown",
      "source": [
        "**Image processing for Static Image**"
      ]
    },
    {
      "metadata": {
        "id": "m4EFA9EguyeY",
        "colab_type": "code",
        "colab": {}
      },
      "cell_type": "code",
      "source": [
        "# image_processing.py\n",
        "import numpy as np\n",
        "import cv2\n",
        "from matplotlib import pyplot as plt\n",
        "\n",
        "# height and width of image\n",
        "IMAGE_H = 750\n",
        "IMAGE_W = 596\n",
        "\n",
        "# read in image\n",
        "image = cv2.imread('final2.jpg')\n",
        "\n",
        "# create float for image and float for size of warped image\n",
        "src = np.float32([[0, IMAGE_H], [IMAGE_W, IMAGE_H], [0, 0], [IMAGE_W, 0]])\n",
        "dst = np.float32([[190, IMAGE_H], [410, IMAGE_H], [0, 0], [IMAGE_W, 0]])\n",
        "\n",
        "# change perspective of image from src to dst\n",
        "M = cv2.getPerspectiveTransform(src,dst)\n",
        "Minv = cv2.getPerspectiveTransform(dst,src)\n",
        "\n",
        "image = image[0:IMAGE_H, 0:IMAGE_W]\n",
        "# filter out everything except obstacles via color thresholding. Obstacles were\n",
        "# gray laptops, so filters everything out not in that range\n",
        "hsv = cv2.cvtColor(image, cv2.COLOR_BGR2HSV)\n",
        "lower_blue = np.array([50,10,160])\n",
        "upper_blue = np.array([110,100,255])\n",
        "mask = cv2.inRange(hsv, lower_blue, upper_blue)\n",
        "\n",
        "# converts mask image with only the obstacles to top down view\n",
        "warped_img = cv2.warpPerspective(mask, M, (IMAGE_W, IMAGE_H))\n",
        "\n",
        "#res = cv2.bitwise_and(image, image, mask= mask)\n",
        "#edged = cv2.Canny(warped_img, 75, 400)\n"
      ],
      "execution_count": 0,
      "outputs": []
    }
  ]
}